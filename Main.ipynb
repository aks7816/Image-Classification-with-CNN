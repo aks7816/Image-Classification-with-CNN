{
 "cells": [
  {
   "cell_type": "code",
   "execution_count": 1,
   "id": "0b9b2d01-a754-4ecf-a858-f0b2fbd4d8dc",
   "metadata": {},
   "outputs": [],
   "source": [
    "import numpy as np\n",
    "from PIL import Image\n",
    "\n",
    "import torch\n",
    "import torch.nn as nn\n",
    "import torch.nn.functional as F\n",
    "import torch.optim as optim\n",
    "\n",
    "import torchvision\n",
    "import torchvision.transforms as transforms\n",
    "\n"
   ]
  },
  {
   "cell_type": "code",
   "execution_count": 7,
   "id": "39ac33cc-2130-483a-a6e8-2f7578a08989",
   "metadata": {},
   "outputs": [],
   "source": [
    "#This chunk prepares the image data for input into a neural network.\n",
    "transform = transforms.Compose([\n",
    "    transforms.ToTensor(),\n",
    "    transforms.Normalize((0.5, 0.5, 0.5), (0.5, 0.5, 0.5))\n",
    "])"
   ]
  },
  {
   "cell_type": "code",
   "execution_count": 8,
   "id": "b05ed005-66de-47fe-a8e4-e08d90fe221d",
   "metadata": {},
   "outputs": [
    {
     "name": "stdout",
     "output_type": "stream",
     "text": [
      "Files already downloaded and verified\n",
      "Files already downloaded and verified\n"
     ]
    }
   ],
   "source": [
    "train_data = torchvision.datasets.CIFAR10(root = './data', train = True, transform=transform, download = True)\n",
    "test_data = torchvision.datasets.CIFAR10(root = './data', train = False, transform=transform, download = True) \n",
    "\n",
    "#provide the data in batches\n",
    "train_loader = torch.utils.data.DataLoader(train_data, batch_size = 32, shuffle = True, num_workers = 2)\n",
    "test_loader = torch.utils.data.DataLoader(test_data, batch_size = 32, shuffle = True, num_workers = 2)\n"
   ]
  },
  {
   "cell_type": "code",
   "execution_count": 9,
   "id": "1f14368e-daf4-4777-9c13-0acbf3ab6c18",
   "metadata": {},
   "outputs": [],
   "source": [
    "image, label = train_data[0]"
   ]
  },
  {
   "cell_type": "code",
   "execution_count": 10,
   "id": "b570a218-6223-45e3-9294-91d5cff9ce80",
   "metadata": {},
   "outputs": [
    {
     "data": {
      "text/plain": [
       "torch.Size([3, 32, 32])"
      ]
     },
     "execution_count": 10,
     "metadata": {},
     "output_type": "execute_result"
    }
   ],
   "source": [
    "image.size()"
   ]
  },
  {
   "cell_type": "code",
   "execution_count": 11,
   "id": "c26ec5a9-59b5-4d79-b1a9-1648e2970de5",
   "metadata": {},
   "outputs": [],
   "source": [
    "class_names = ['plane', 'car', 'bird', 'cat', 'deer', 'dog', 'frog', 'horse', 'ship', 'truck']"
   ]
  },
  {
   "cell_type": "code",
   "execution_count": 13,
   "id": "5e0fec91-4259-4bb0-b3d6-de08a2a4fcbd",
   "metadata": {},
   "outputs": [],
   "source": [
    "\n",
    "class NeuralNet(nn.Module):\n",
    "    def __init__(self):\n",
    "        super().__init__()\n",
    "        self.conv1 = nn.Conv2d(3, 12, 5)  #our new shape is (12,28, 28)\n",
    "        self.pool = nn.MaxPool2d(2,2) #(12, 14, 14)\n",
    "        self.conv2 = nn.Conv2d(12, 24, 5) #(24, 10, 10) -> (24, 5, 5) -> Flatten(24*5*5)\n",
    "        self.fc1 = nn.Linear(24 * 5 * 5, 120)\n",
    "        self.fc2 = nn.Linear(120, 84)\n",
    "        self.fc3 = nn.Linear(84, 10)\n",
    "\n",
    "    def forward(self, x):\n",
    "        x = self.pool(F.relu(self.conv1(x)))\n",
    "        x = self.pool(F.relu(self.conv2(x)))\n",
    "        x = torch.flatten(x, 1)\n",
    "        x = F.relu(self.fc1(x))\n",
    "        x = F.relu(self.fc2(x))\n",
    "        x = self.fc3(x)\n",
    "        return x\n",
    "\n",
    "\n"
   ]
  },
  {
   "cell_type": "code",
   "execution_count": 16,
   "id": "4d051a01-26cb-4360-bdd1-e8005842f3d5",
   "metadata": {},
   "outputs": [
    {
     "name": "stdout",
     "output_type": "stream",
     "text": [
      "Training epoch 0...\n",
      "loss: 0.0013\n",
      "Training epoch 1...\n",
      "loss: 0.0009\n",
      "Training epoch 2...\n",
      "loss: 0.0009\n",
      "Training epoch 3...\n",
      "loss: 0.0008\n",
      "Training epoch 4...\n",
      "loss: 0.0008\n",
      "Training epoch 5...\n",
      "loss: 0.0007\n",
      "Training epoch 6...\n",
      "loss: 0.0007\n",
      "Training epoch 7...\n",
      "loss: 0.0009\n",
      "Training epoch 8...\n",
      "loss: 0.0005\n",
      "Training epoch 9...\n",
      "loss: 0.0008\n",
      "Training epoch 10...\n",
      "loss: 0.0006\n",
      "Training epoch 11...\n",
      "loss: 0.0005\n",
      "Training epoch 12...\n",
      "loss: 0.0003\n",
      "Training epoch 13...\n",
      "loss: 0.0005\n",
      "Training epoch 14...\n",
      "loss: 0.0004\n",
      "Training epoch 15...\n",
      "loss: 0.0003\n",
      "Training epoch 16...\n",
      "loss: 0.0007\n",
      "Training epoch 17...\n",
      "loss: 0.0005\n",
      "Training epoch 18...\n",
      "loss: 0.0007\n",
      "Training epoch 19...\n",
      "loss: 0.0004\n",
      "Training epoch 20...\n",
      "loss: 0.0007\n",
      "Training epoch 21...\n",
      "loss: 0.0005\n",
      "Training epoch 22...\n",
      "loss: 0.0003\n",
      "Training epoch 23...\n",
      "loss: 0.0001\n",
      "Training epoch 24...\n",
      "loss: 0.0002\n",
      "Training epoch 25...\n",
      "loss: 0.0003\n",
      "Training epoch 26...\n",
      "loss: 0.0003\n",
      "Training epoch 27...\n",
      "loss: 0.0003\n",
      "Training epoch 28...\n",
      "loss: 0.0004\n",
      "Training epoch 29...\n",
      "loss: 0.0005\n"
     ]
    }
   ],
   "source": [
    "#We are now going to train the model\n",
    "\n",
    "#this is our training loop\n",
    "#instantiate neural network model by creating an object of the NeuralNet class.\n",
    "net = NeuralNet()\n",
    "loss_function = nn.CrossEntropyLoss()\n",
    "optimizer = optim.SGD(net.parameters(), lr = 0.001, momentum = 0.9)\n",
    "for epoch in range(30):\n",
    "    print(f'Training epoch {epoch}...')\n",
    "    running_loss = 0.0\n",
    "    for i, data in enumerate(train_loader):\n",
    "        inputs, labels = data\n",
    "        optimizer.zero_grad()\n",
    "        outputs = net(inputs)\n",
    "        loss = loss_function(outputs, labels)\n",
    "        loss.backward()\n",
    "        optimizer.step()\n",
    "\n",
    "        running_loss =+ loss.item()\n",
    "    print(f'loss: {running_loss / len(train_loader):.4f}')\n"
   ]
  },
  {
   "cell_type": "code",
   "execution_count": 18,
   "id": "39938998-f719-4bf5-af44-3f9cdfef10cb",
   "metadata": {},
   "outputs": [],
   "source": [
    "torch.save(net.state_dict(), 'trained_net.pth')"
   ]
  },
  {
   "cell_type": "code",
   "execution_count": 19,
   "id": "9280c219-2c15-4a03-a83b-a2e0705c61e9",
   "metadata": {},
   "outputs": [
    {
     "data": {
      "text/plain": [
       "<All keys matched successfully>"
      ]
     },
     "execution_count": 19,
     "metadata": {},
     "output_type": "execute_result"
    }
   ],
   "source": [
    "net = NeuralNet()\n",
    "net.load_state_dict(torch.load('trained_net.pth'))"
   ]
  },
  {
   "cell_type": "code",
   "execution_count": 20,
   "id": "583d014f-d8a2-4ab2-9401-06adfe639fc5",
   "metadata": {},
   "outputs": [
    {
     "name": "stdout",
     "output_type": "stream",
     "text": [
      "Accuracy: 68.84%\n"
     ]
    }
   ],
   "source": [
    "#Evaluate on test data\n",
    "correct = 0\n",
    "total = 0\n",
    "#sets the model to evaluation mode\n",
    "net.eval()\n",
    "#disables gradient calculation\n",
    "with torch.no_grad():\n",
    "    #The loop iterates over the batches in the test_loader, which contains the test dataset.\n",
    "    for data in test_loader:\n",
    "        images, labels = data\n",
    "        #The model processes the input images and produces a set of outputs (logits). Each output corresponds to the network's confidence in each class.\n",
    "        outputs = net(images)\n",
    "        #This function returns the maximum value and its index along the specified dimension\n",
    "        _, predicted = torch.max(outputs, 1)\n",
    "        total += labels.size(0)\n",
    "        correct += (predicted == labels).sum().item()\n",
    "accuracy = 100 *correct/total\n",
    "\n",
    "print(f'Accuracy: {accuracy}%')"
   ]
  },
  {
   "cell_type": "code",
   "execution_count": 24,
   "id": "73919198-645e-4711-8934-332f166b1918",
   "metadata": {},
   "outputs": [
    {
     "name": "stdout",
     "output_type": "stream",
     "text": [
      "Prediction: plane\n",
      "Prediction: dog\n"
     ]
    }
   ],
   "source": [
    "new_transform = transforms.Compose([\n",
    "    transforms.Resize((32, 32)),\n",
    "    transforms.ToTensor(),\n",
    "    transforms.Normalize((0.5, 0.5, 0.5), (0.5, 0.5, 0.5))\n",
    "])\n",
    "\n",
    "\n",
    "def load_image(image_path):\n",
    "    image = Image.open(image_path)\n",
    "    image = new_transform(image)\n",
    "    #Adding a batch dimension allows the same code to handle both single-image and multi-image inputs\n",
    "    image = image.unsqueeze(0)\n",
    "    return image\n",
    "\n",
    "\n",
    "image_paths = ['Airplane.jpg', 'Dog.jpg']\n",
    "images = [load_image(img) for img in image_paths]\n",
    "\n",
    "net.eval()\n",
    "with torch.no_grad():\n",
    "    for image in images:\n",
    "        # Passes the image through the neural network\n",
    "        output = net(image)\n",
    "        #Finds the index of the maximum value in the output tensor\n",
    "        _, predicted = torch.max(output, 1)\n",
    "        print(f'Prediction: {class_names[predicted.item()]}') "
   ]
  }
 ],
 "metadata": {
  "kernelspec": {
   "display_name": "Python 3 (ipykernel)",
   "language": "python",
   "name": "python3"
  },
  "language_info": {
   "codemirror_mode": {
    "name": "ipython",
    "version": 3
   },
   "file_extension": ".py",
   "mimetype": "text/x-python",
   "name": "python",
   "nbconvert_exporter": "python",
   "pygments_lexer": "ipython3",
   "version": "3.12.4"
  }
 },
 "nbformat": 4,
 "nbformat_minor": 5
}
